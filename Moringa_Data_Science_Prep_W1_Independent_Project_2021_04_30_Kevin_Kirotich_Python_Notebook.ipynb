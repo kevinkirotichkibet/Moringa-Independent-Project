{
  "nbformat": 4,
  "nbformat_minor": 0,
  "metadata": {
    "colab": {
      "name": "Moringa_Data_Science_Prep_W1_Independent_Project_2021_04_30_Kevin_Kirotich_Python_Notebook.ipynb",
      "provenance": [],
      "collapsed_sections": [],
      "authorship_tag": "ABX9TyMcLpvRPM1/kGMIo+jlw1C6",
      "include_colab_link": true
    },
    "kernelspec": {
      "name": "python3",
      "display_name": "Python 3"
    },
    "language_info": {
      "name": "python"
    }
  },
  "cells": [
    {
      "cell_type": "markdown",
      "metadata": {
        "id": "view-in-github",
        "colab_type": "text"
      },
      "source": [
        "<a href=\"https://colab.research.google.com/github/kevinkirotichkibet/Moringa-Independent-Project/blob/main/Moringa_Data_Science_Prep_W1_Independent_Project_2021_04_30_Kevin_Kirotich_Python_Notebook.ipynb\" target=\"_parent\"><img src=\"https://colab.research.google.com/assets/colab-badge.svg\" alt=\"Open In Colab\"/></a>"
      ]
    },
    {
      "cell_type": "code",
      "metadata": {
        "colab": {
          "base_uri": "https://localhost:8080/"
        },
        "id": "12oQ-VyJzAV_",
        "outputId": "a0ce083a-f733-4023-89d1-5dca5a48ec1e"
      },
      "source": [
        "#Converting weight from pounds to kilogram\n",
        "#prompt the user to enter weight\n",
        "\n",
        "weight_in_pounds=float(input(\"Please enter weight in Pounds: \"))\n",
        "#conversion\n",
        "weight_in_kilo=(weight_in_pounds * 0.453592)\n",
        "#display converted  weight\n",
        "print(float(weight_in_kilo))\n"
      ],
      "execution_count": null,
      "outputs": [
        {
          "output_type": "stream",
          "text": [
            "Please enter weight in Pounds: 2\n",
            "0.907184\n"
          ],
          "name": "stdout"
        }
      ]
    },
    {
      "cell_type": "code",
      "metadata": {
        "colab": {
          "base_uri": "https://localhost:8080/"
        },
        "id": "mueHd1r60s7v",
        "outputId": "63be5c07-3c21-41ce-fcd5-6ffda9cf27bd"
      },
      "source": [
        "#Performing integer additions in python\n",
        "#prompt for user input\n",
        "print(\"Enter Two Values x and y\")\n",
        "x = input(\"x= \")\n",
        "y = input(\"y= \")\n",
        "\n",
        "# casting the numbers to integers as you add\n",
        "sum = (int(x) + int(y))\n",
        "# printing and casting the sum and values to string for concatenation\n",
        "print(\"The sum of \" + str(x) + \" and \" + str(y)+\" is \" + str(sum))\n"
      ],
      "execution_count": null,
      "outputs": [
        {
          "output_type": "stream",
          "text": [
            "Enter Two Values x and y\n",
            "x= 2\n",
            "y= 1\n",
            "The sum of 2 and 1 is 3\n"
          ],
          "name": "stdout"
        }
      ]
    },
    {
      "cell_type": "code",
      "metadata": {
        "id": "wdvZAt0Y2b1w"
      },
      "source": [
        "#Performing average in python\n",
        "#get user inputs\n",
        "print(\"Enter Two Values num_1 and num_2\")\n",
        "num_1 = input(\"num_1= \")\n",
        "num_2 = input(\"num_2= \")\n",
        "\n",
        "#First find the sum of the two numbers\n",
        "sum = float(num_1) + float(num_2)\n",
        "\n",
        "#Find the average by deviding with 2\n",
        "avr = float(sum)/2\n",
        "\n",
        "#printing the display\n",
        "print(\"The Average of \" + str(num_1) + \" and \" + str(num_2) + \" is \" + str(avr))"
      ],
      "execution_count": null,
      "outputs": []
    },
    {
      "cell_type": "code",
      "metadata": {
        "id": "LqBRDXRK4sHr"
      },
      "source": [
        "#Performing  Difference in python\n",
        "#prompt for user input\n",
        "print(\"Enter Two Values x and y\")\n",
        "x = input(\"x= \")\n",
        "y = input(\"y= \")\n",
        "\n",
        "# casting the numbers to integers and finding the difference\n",
        "diff = (int(x) - int(y))\n",
        "# printing and casting the difference and values to string for concatenation\n",
        "print(\"The difference between \" + str(x) + \" and \" + str(y)+\" is \" + str(diff))\n"
      ],
      "execution_count": null,
      "outputs": []
    },
    {
      "cell_type": "code",
      "metadata": {
        "colab": {
          "base_uri": "https://localhost:8080/"
        },
        "id": "gSTD11nc5ovf",
        "outputId": "9b83c48b-0191-42d5-93eb-0128e87793d5"
      },
      "source": [
        "#finding the quotient if one value is divided by the other\n",
        "#prompt for user input\n",
        "print(\"Enter Two Values x and y\")\n",
        "x = input(\"x= \")\n",
        "y = input(\"y= \")\n",
        "\n",
        "# casting the numbers to integers as you find the quotient\n",
        "q = (int(x) // int(y))\n",
        "# printing and casting quotient and values to string for concatenation\n",
        "print(\"The quotient between \" + str(x) + \" and \" + str(y)+\" is \" + str(q))\n"
      ],
      "execution_count": null,
      "outputs": [
        {
          "output_type": "stream",
          "text": [
            "Enter Two Values x and y\n",
            "x= 10\n",
            "y= 3\n",
            "The quotient between 10 and 3 is 3\n"
          ],
          "name": "stdout"
        }
      ]
    },
    {
      "cell_type": "code",
      "metadata": {
        "id": "QvfS9D7k603g"
      },
      "source": [
        "#Finding if a number is Odd or Even\n",
        "#prompt user to input data\n",
        "print(\"Enter Two Values x and y\")\n",
        "x = int(input(\"x= \"))\n",
        "y = int(input(\"y= \"))\n",
        "\n",
        "#use the if function to find the modulus of the inputs\n",
        "if x % 2 == 0:\n",
        "  print(\"The x value: \" + str(x) + \"-is an Even Number\")\n",
        "else:\n",
        "  print(\"The x value: \" + str(x) + \"-is an Odd Number\")\n",
        "if y % 2 == 0:\n",
        "  print(\"The y value: \" + str(y) + \"-is an Even Number\")\n",
        "else:\n",
        "  print(\"The y value: \" + str(y) + \"-is an Odd Number\")\n",
        "\n"
      ],
      "execution_count": null,
      "outputs": []
    }
  ]
}