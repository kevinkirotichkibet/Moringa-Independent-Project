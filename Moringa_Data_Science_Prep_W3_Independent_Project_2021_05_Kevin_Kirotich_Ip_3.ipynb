{
  "nbformat": 4,
  "nbformat_minor": 0,
  "metadata": {
    "colab": {
      "name": "Moringa_Data_Science_Prep_W3_Independent_Project_2021_05_Kevin_Kirotich_Ip_3",
      "provenance": [],
      "collapsed_sections": [],
      "authorship_tag": "ABX9TyOZD1liuoUj7qUKokUfgdph",
      "include_colab_link": true
    },
    "kernelspec": {
      "name": "python3",
      "display_name": "Python 3"
    },
    "language_info": {
      "name": "python"
    }
  },
  "cells": [
    {
      "cell_type": "markdown",
      "metadata": {
        "id": "view-in-github",
        "colab_type": "text"
      },
      "source": [
        "<a href=\"https://colab.research.google.com/github/kevinkirotichkibet/Moringa-Independent-Project/blob/main/Moringa_Data_Science_Prep_W3_Independent_Project_2021_05_Kevin_Kirotich_Ip_3.ipynb\" target=\"_parent\"><img src=\"https://colab.research.google.com/assets/colab-badge.svg\" alt=\"Open In Colab\"/></a>"
      ]
    },
    {
      "cell_type": "code",
      "metadata": {
        "id": "WSviFkxMJ7Dv"
      },
      "source": [
        "#importing our library\n",
        "import pandas as pd\n"
      ],
      "execution_count": null,
      "outputs": []
    },
    {
      "cell_type": "code",
      "metadata": {
        "id": "bQu89du2M1Xl"
      },
      "source": [
        "#loading and displaying cells_geo.csv file\n",
        "cells_geo = pd.read_csv(\"/content/cells_geo.csv\",sep =';')\n",
        "cells_geo.head()"
      ],
      "execution_count": null,
      "outputs": []
    },
    {
      "cell_type": "code",
      "metadata": {
        "id": "hWlGN8_LM1jb"
      },
      "source": [
        "#loading and displaying CDR_description.xlsx file\n",
        "CDR_description = pd.read_excel(\"/content/CDR_description.xlsx\")\n",
        "\n",
        "CDR_description"
      ],
      "execution_count": null,
      "outputs": []
    },
    {
      "cell_type": "code",
      "metadata": {
        "id": "fH4SFpLIM2cr"
      },
      "source": [
        "#loading and displaying cells_geo_description.xlsx file\n",
        "cells_geo_description = pd.read_excel(\"/content/cells_geo_description.xlsx\")\n",
        "cells_geo_description.head()"
      ],
      "execution_count": null,
      "outputs": []
    },
    {
      "cell_type": "code",
      "metadata": {
        "id": "tnPtzilNKycN"
      },
      "source": [
        "#cleaning data\n",
        "cells_geo_raw = pd.read_csv(\"/content/cells_geo.csv\")\n",
        "cells_geo=cells_geo_raw.rename(columns={'SITE_CODE':'SITE_ID'})"
      ],
      "execution_count": null,
      "outputs": []
    },
    {
      "cell_type": "code",
      "metadata": {
        "id": "90bWCG2cpog9"
      },
      "source": [
        "cells_geo"
      ],
      "execution_count": null,
      "outputs": []
    },
    {
      "cell_type": "code",
      "metadata": {
        "id": "7LY5som9M2rN"
      },
      "source": [
        "#Cleaning Data\n",
        "Telcom_dataset_raw = pd.read_csv(\"/content/Telcom_dataset.csv\")\n",
        "Telcom_dataset=Telcom_dataset_raw.rename(columns={'PRODUTC':'PRODUCT','DATETIME':'DATE_TIME'})\n"
      ],
      "execution_count": null,
      "outputs": []
    },
    {
      "cell_type": "code",
      "metadata": {
        "id": "JdUqaZM75dww"
      },
      "source": [
        "Telcom_dataset"
      ],
      "execution_count": null,
      "outputs": []
    },
    {
      "cell_type": "code",
      "metadata": {
        "id": "E9oP_Che82h1"
      },
      "source": [
        "#Cleaning Data\n",
        "Telcom_dataset2_raw = pd.read_csv(\"/content/Telcom_dataset2.csv\")\n",
        "Telcom_dataset2=Telcom_dataset2_raw.rename(columns={'DW_A_NUMBER':'DW_A_NUMBER_INT','DW_B_NUMBER':'DW_B_NUMBER_INT'})"
      ],
      "execution_count": null,
      "outputs": []
    },
    {
      "cell_type": "code",
      "metadata": {
        "id": "s3HzerOE9Np8"
      },
      "source": [
        "Telcom_dataset2"
      ],
      "execution_count": null,
      "outputs": []
    },
    {
      "cell_type": "code",
      "metadata": {
        "id": "qbV2nx8l9WXw"
      },
      "source": [
        "#Cleaning Data\n",
        "Telcom_dataset3_raw = pd.read_csv(\"/content/Telcom_dataset3.csv\")\n",
        "Telcom_dataset3=Telcom_dataset3_raw.rename(columns={'CELLID':'CELL_ID','SIET_ID':'SITE_ID'})"
      ],
      "execution_count": null,
      "outputs": []
    },
    {
      "cell_type": "code",
      "metadata": {
        "id": "_8VJDn4R9t0N"
      },
      "source": [
        "Telcom_dataset3"
      ],
      "execution_count": null,
      "outputs": []
    },
    {
      "cell_type": "code",
      "metadata": {
        "id": "3QXUNoEnXoBx"
      },
      "source": [
        "#placing telcom dataframes to one frame\n",
        "my_frames=[Telcom_dataset,Telcom_dataset2,Telcom_dataset3]"
      ],
      "execution_count": null,
      "outputs": []
    },
    {
      "cell_type": "code",
      "metadata": {
        "id": "L4nDxgIUt_uw"
      },
      "source": [
        "#Concatiniating files\n",
        "All_Telcom_Files = pd.concat(my_frames)"
      ],
      "execution_count": null,
      "outputs": []
    },
    {
      "cell_type": "code",
      "metadata": {
        "id": "fXzxOfmDCx1x"
      },
      "source": [
        "All_Telcom_Files.head()"
      ],
      "execution_count": null,
      "outputs": []
    },
    {
      "cell_type": "code",
      "metadata": {
        "id": "tvMk1bgurR_I"
      },
      "source": [
        "#Checking for null values\n",
        "All_Telcom_Files.notnull()"
      ],
      "execution_count": null,
      "outputs": []
    },
    {
      "cell_type": "code",
      "metadata": {
        "id": "v8Xsk5l0uPCr"
      },
      "source": [
        "#checking no of cell id \n",
        "All_Telcom_Files\n",
        "#.CELL_ID.nunique()"
      ],
      "execution_count": null,
      "outputs": []
    },
    {
      "cell_type": "code",
      "metadata": {
        "id": "4ddsOZK92pIy"
      },
      "source": [
        "\n",
        "Sms_Telcom_Files=All_Telcom_Files[All_Telcom_Files['PRODUCT']=='sms']"
      ],
      "execution_count": null,
      "outputs": []
    },
    {
      "cell_type": "code",
      "metadata": {
        "id": "gGadcTbYcIYw"
      },
      "source": [
        "#displaying sms on combined telcom files\n",
        "Sms_Telcom_Files"
      ],
      "execution_count": null,
      "outputs": []
    },
    {
      "cell_type": "code",
      "metadata": {
        "id": "vEoFjO3nFDAZ"
      },
      "source": [
        "Voice_Telcom_Files=All_Telcom_Files[All_Telcom_Files['PRODUCT']=='Voice']"
      ],
      "execution_count": null,
      "outputs": []
    },
    {
      "cell_type": "code",
      "metadata": {
        "id": "bX2AUTmsZ1GF"
      },
      "source": [
        "#displaying sms on combined telcom files\n",
        "Voice_Telcom_Files"
      ],
      "execution_count": null,
      "outputs": []
    },
    {
      "cell_type": "code",
      "metadata": {
        "id": "H6uCky2TeAnP"
      },
      "source": [
        "#finding sms based on value\n",
        "Value_Sms_Telcom_Files = Sms_Telcom_Files.loc[Sms_Telcom_Files[\"VALUE\"] != 0]"
      ],
      "execution_count": null,
      "outputs": []
    },
    {
      "cell_type": "code",
      "metadata": {
        "id": "HQdMODHHea2H"
      },
      "source": [
        "#displaying sms based on value\n",
        "Value_Sms_Telcom_Files"
      ],
      "execution_count": null,
      "outputs": []
    },
    {
      "cell_type": "code",
      "metadata": {
        "id": "KzrPSay6nYRg"
      },
      "source": [
        "df_sms=Value_Sms_Telcom_Files['VALUE'].astype(str).astype(int)"
      ],
      "execution_count": null,
      "outputs": []
    },
    {
      "cell_type": "code",
      "metadata": {
        "colab": {
          "base_uri": "https://localhost:8080/"
        },
        "id": "H0fOUExVnYbG",
        "outputId": "7f839234-ffe5-42f4-c2bb-3f47df73d530"
      },
      "source": [
        "#total amount spent on sms\n",
        "df_sms.sum()"
      ],
      "execution_count": null,
      "outputs": [
        {
          "output_type": "execute_result",
          "data": {
            "text/plain": [
              "53427"
            ]
          },
          "metadata": {
            "tags": []
          },
          "execution_count": 111
        }
      ]
    },
    {
      "cell_type": "code",
      "metadata": {
        "id": "dcC6tFb1eskF"
      },
      "source": [
        "#finding voice based on value\n",
        "Value_Voice_Telcom_Files = Voice_Telcom_Files.loc[Voice_Telcom_Files[\"VALUE\"] != 0]"
      ],
      "execution_count": null,
      "outputs": []
    },
    {
      "cell_type": "code",
      "metadata": {
        "id": "8cIxsC6UeyJT"
      },
      "source": [
        "#displaying voice based on value\n",
        "Value_Voice_Telcom_Files"
      ],
      "execution_count": null,
      "outputs": []
    },
    {
      "cell_type": "code",
      "metadata": {
        "id": "FxNLZd-fnJDy"
      },
      "source": [
        "df_voice=Value_Voice_Telcom_Files['VALUE'].astype(str).astype(int)\n"
      ],
      "execution_count": null,
      "outputs": []
    },
    {
      "cell_type": "code",
      "metadata": {
        "colab": {
          "base_uri": "https://localhost:8080/"
        },
        "id": "YhMOXr0VnQh7",
        "outputId": "79030a78-8fb4-4a19-adab-921dc8e7173b"
      },
      "source": [
        "#total amount spent on voice\n",
        "df_voice.sum()"
      ],
      "execution_count": null,
      "outputs": [
        {
          "output_type": "execute_result",
          "data": {
            "text/plain": [
              "312593"
            ]
          },
          "metadata": {
            "tags": []
          },
          "execution_count": 109
        }
      ]
    },
    {
      "cell_type": "code",
      "metadata": {
        "id": "Hw1K7R_HoXyl"
      },
      "source": [
        "#Merging to one frame\n",
        "Value_Frames=[Value_Sms_Telcom_Files,Value_Voice_Telcom_Files]"
      ],
      "execution_count": null,
      "outputs": []
    },
    {
      "cell_type": "code",
      "metadata": {
        "id": "pql2MmAhortZ"
      },
      "source": [
        "#concatinating the values of the frames\n",
        "Value_Dataframe=pd.concat(Value_Frames)"
      ],
      "execution_count": null,
      "outputs": []
    },
    {
      "cell_type": "code",
      "metadata": {
        "id": "2-TGIbaho7mt"
      },
      "source": [
        "Value_Dataframe"
      ],
      "execution_count": null,
      "outputs": []
    },
    {
      "cell_type": "code",
      "metadata": {
        "id": "ZE2xjHm9mwaN"
      },
      "source": [
        "df=Value_Dataframe['VALUE'].astype(str).astype(int)\n"
      ],
      "execution_count": null,
      "outputs": []
    },
    {
      "cell_type": "code",
      "metadata": {
        "colab": {
          "base_uri": "https://localhost:8080/"
        },
        "id": "Uvr2XG2dnAQW",
        "outputId": "34e2133a-d142-4995-951c-8a030edb90cc"
      },
      "source": [
        "#amount spent on voice and sms\n",
        "df.sum()"
      ],
      "execution_count": null,
      "outputs": [
        {
          "output_type": "execute_result",
          "data": {
            "text/plain": [
              "366020"
            ]
          },
          "metadata": {
            "tags": []
          },
          "execution_count": 106
        }
      ]
    }
  ]
}