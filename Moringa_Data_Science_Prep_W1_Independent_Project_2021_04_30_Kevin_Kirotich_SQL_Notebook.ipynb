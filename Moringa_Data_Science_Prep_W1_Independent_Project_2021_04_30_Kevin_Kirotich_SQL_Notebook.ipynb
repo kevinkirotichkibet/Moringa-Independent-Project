{
  "nbformat": 4,
  "nbformat_minor": 0,
  "metadata": {
    "colab": {
      "name": "Moringa_Data_Science_Prep_W1_Independent_Project_2021_04_30_Kevin_Kirotich_SQL_Notebook.ipynb",
      "provenance": [],
      "collapsed_sections": [],
      "authorship_tag": "ABX9TyMfkNG1lTPAPHVnTaUlr4IW",
      "include_colab_link": true
    },
    "kernelspec": {
      "name": "python3",
      "display_name": "Python 3"
    },
    "language_info": {
      "name": "python"
    }
  },
  "cells": [
    {
      "cell_type": "markdown",
      "metadata": {
        "id": "view-in-github",
        "colab_type": "text"
      },
      "source": [
        "<a href=\"https://colab.research.google.com/github/kevinkirotichkibet/Moringa-Independent-Project/blob/main/Moringa_Data_Science_Prep_W1_Independent_Project_2021_04_30_Kevin_Kirotich_SQL_Notebook.ipynb\" target=\"_parent\"><img src=\"https://colab.research.google.com/assets/colab-badge.svg\" alt=\"Open In Colab\"/></a>"
      ]
    },
    {
      "cell_type": "code",
      "metadata": {
        "colab": {
          "base_uri": "https://localhost:8080/",
          "height": 35
        },
        "id": "qeHUpyGsAE4t",
        "outputId": "b7a9d5bb-8b2b-48b0-b013-1d895ddb6603"
      },
      "source": [
        "#load sql extension to the environment\n",
        "#%load_ext sql\n",
        "%load_ext sql\n",
        "\n",
        "#connection to our memory sqllite database\n",
        "%sql sqlite://"
      ],
      "execution_count": null,
      "outputs": [
        {
          "output_type": "execute_result",
          "data": {
            "application/vnd.google.colaboratory.intrinsic+json": {
              "type": "string"
            },
            "text/plain": [
              "'Connected: @None'"
            ]
          },
          "metadata": {
            "tags": []
          },
          "execution_count": 80
        }
      ]
    },
    {
      "cell_type": "code",
      "metadata": {
        "id": "Vw-0o0GlAlyj"
      },
      "source": [
        "#Liobrary importation needed by the notebook\n",
        "import csv\n",
        "import pandas as pd"
      ],
      "execution_count": null,
      "outputs": []
    },
    {
      "cell_type": "code",
      "metadata": {
        "id": "zqYjHRY4AtWl",
        "colab": {
          "base_uri": "https://localhost:8080/",
          "height": 53
        },
        "outputId": "cda203cc-dd9a-426b-89ac-7755964a045b"
      },
      "source": [
        "#loading table to our local CSV file\n",
        "\n",
        "with open('Uganda_Karamoja_Subcounty_Crop_Yield_Population.csv','r') as f:\n",
        "  YieldInfo = pd.read_csv(f, index_col=0, encoding='utf-8')\n",
        "\n",
        "#%sql DROP TABLE if EXISTS YieldInfo\n",
        "%sql PERSIST YieldInfo"
      ],
      "execution_count": null,
      "outputs": [
        {
          "output_type": "stream",
          "text": [
            " * sqlite://\n"
          ],
          "name": "stdout"
        },
        {
          "output_type": "execute_result",
          "data": {
            "application/vnd.google.colaboratory.intrinsic+json": {
              "type": "string"
            },
            "text/plain": [
              "'Persisted yieldinfo'"
            ]
          },
          "metadata": {
            "tags": []
          },
          "execution_count": 55
        }
      ]
    },
    {
      "cell_type": "code",
      "metadata": {
        "id": "7GCirF3LCjDV"
      },
      "source": [
        "\n",
        "#Displaying sub counties and their population and areas\n",
        "\n",
        "\n",
        "%%sql\n",
        "SELECT \"SUBCOUNTY_NAME\", \"POP\",\"Area\" FROM YieldInfo"
      ],
      "execution_count": null,
      "outputs": []
    },
    {
      "cell_type": "code",
      "metadata": {
        "id": "lrH2A4dQC6u8"
      },
      "source": [
        "#list of districts by total crop area in ascending order\n",
        "#sorting by ascending order\n",
        "#selecting distric name column from the database\n",
        "%%sql\n",
        "SELECT \"DISTRICT_NAME\" FROM YieldInfo\n",
        "\n",
        "\n",
        "ORDER BY \"Crop_Area_Ha\" DESC"
      ],
      "execution_count": null,
      "outputs": []
    },
    {
      "cell_type": "code",
      "metadata": {
        "id": "6Gcz54-gQHEV"
      },
      "source": [
        ""
      ],
      "execution_count": null,
      "outputs": []
    },
    {
      "cell_type": "code",
      "metadata": {
        "id": "4XYpSrSzEJmX"
      },
      "source": [
        "#sub counties in moroto district and a sorghum production listed sorted alphabetically \n",
        "#Selecting subcounty and sorghum production area from database\n",
        "#sort only from moroto district\n",
        "#sort alphabetically\n",
        "%%sql\n",
        "SELECT \"SUBCOUNTY_NAME\", \"S_Area_Ha\" FROM YieldInfo\n",
        "WHERE \"DISTRICT_NAME\" = \"MOROTO\"\n",
        "ORDER BY \"SUBCOUNTY_NAME\" ASC"
      ],
      "execution_count": null,
      "outputs": []
    },
    {
      "cell_type": "code",
      "metadata": {
        "id": "HM7EhTHhEeYl"
      },
      "source": [
        "#Total maize production per district\n",
        "#select district column and add the values of maize for the district\n",
        "#Group your data according to district they cover\n",
        "%%sql\n",
        "SELECT \"DISTRICT_NAME\", sum(\"M_Area_Ha\")\n",
        "FROM YieldInfo\n",
        "GROUP BY \"DISTRICT_NAME\""
      ],
      "execution_count": null,
      "outputs": []
    },
    {
      "cell_type": "code",
      "metadata": {
        "id": "JG6xfTi3X-Du"
      },
      "source": [
        "#The number of sub counties where that produces maize and total maize per district\n",
        "#count function will count the amount of subconties that produces maize\n",
        "#add the total maize production per district\n",
        "#Group per district\n",
        "%%sql\n",
        "SELECT COUNT(\"SUBCOUNTY_NAME\"), sum(\"M_Area_Ha\")\n",
        "FROM YieldInfo\n",
        "GROUP BY \"DISTRICT_NAME\""
      ],
      "execution_count": null,
      "outputs": []
    },
    {
      "cell_type": "code",
      "metadata": {
        "colab": {
          "base_uri": "https://localhost:8080/",
          "height": 194
        },
        "id": "OQB_WE93buoQ",
        "outputId": "a84bbbda-3a72-4ff7-c475-c1c8b19e5e0f"
      },
      "source": [
        "#The overrall crop area in all subcounties where population is over 20000\n",
        "#select column of district \n",
        "%%sql\n",
        "SELECT \"DISTRICT_NAME\",sum(\"Crop_Area_Ha\"), sum(\"M_Area_Ha\")\n",
        "FROM YieldInfo\n",
        "WHERE \"POP\" > 20000\n",
        "GROUP BY \"DISTRICT_NAME\""
      ],
      "execution_count": null,
      "outputs": [
        {
          "output_type": "stream",
          "text": [
            " * sqlite://\n",
            "Done.\n"
          ],
          "name": "stdout"
        },
        {
          "output_type": "execute_result",
          "data": {
            "text/html": [
              "<table>\n",
              "    <thead>\n",
              "        <tr>\n",
              "            <th>DISTRICT_NAME</th>\n",
              "            <th>sum(&quot;Crop_Area_Ha&quot;)</th>\n",
              "            <th>sum(&quot;M_Area_Ha&quot;)</th>\n",
              "        </tr>\n",
              "    </thead>\n",
              "    <tbody>\n",
              "        <tr>\n",
              "            <td>AMUDAT</td>\n",
              "            <td>5704.671632</td>\n",
              "            <td>2731.244228</td>\n",
              "        </tr>\n",
              "        <tr>\n",
              "            <td>KAABONG</td>\n",
              "            <td>26629.900721300004</td>\n",
              "            <td>7239.734095829999</td>\n",
              "        </tr>\n",
              "        <tr>\n",
              "            <td>KOTIDO</td>\n",
              "            <td>46009.115769</td>\n",
              "            <td>1223.248054057</td>\n",
              "        </tr>\n",
              "        <tr>\n",
              "            <td>MOROTO</td>\n",
              "            <td>5809.076824</td>\n",
              "            <td>1086.58166921</td>\n",
              "        </tr>\n",
              "        <tr>\n",
              "            <td>NAKAPIRIPIRIT</td>\n",
              "            <td>19909.559379</td>\n",
              "            <td>4900.54685354</td>\n",
              "        </tr>\n",
              "        <tr>\n",
              "            <td>NAPAK</td>\n",
              "            <td>16150.565830000001</td>\n",
              "            <td>4750.694780210001</td>\n",
              "        </tr>\n",
              "    </tbody>\n",
              "</table>"
            ],
            "text/plain": [
              "[('AMUDAT', 5704.671632, 2731.244228),\n",
              " ('KAABONG', 26629.900721300004, 7239.734095829999),\n",
              " ('KOTIDO', 46009.115769, 1223.248054057),\n",
              " ('MOROTO', 5809.076824, 1086.58166921),\n",
              " ('NAKAPIRIPIRIT', 19909.559379, 4900.54685354),\n",
              " ('NAPAK', 16150.565830000001, 4750.694780210001)]"
            ]
          },
          "metadata": {
            "tags": []
          },
          "execution_count": 78
        }
      ]
    },
    {
      "cell_type": "code",
      "metadata": {
        "id": "L4LIC-IkudyS"
      },
      "source": [
        "#sort the maize production in descending order by district\n",
        "#take in account subcounties where maize is larger than sorghum\n",
        "#sort in decening order by districts\n",
        "%%sql\n",
        "SELECT \"M_Prod_Tot\", \"SUBCOUNTY_NAME\", COUNT(\"SUBCOUNTY_NAME\"),(\"DISTRICT_NAME\")\n",
        "FROM YieldInfo\n",
        "WHERE \"M_Area_Ha\" > \"S_Area_Ha\"\n",
        "GROUP BY \"SUBCOUNTY_NAME\"\n",
        "ORDER BY \"DISTRICT_NAME\""
      ],
      "execution_count": null,
      "outputs": []
    }
  ]
}